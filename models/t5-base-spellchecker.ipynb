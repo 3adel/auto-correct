{
 "cells": [
  {
   "cell_type": "code",
   "execution_count": 2,
   "metadata": {},
   "outputs": [
    {
     "name": "stdout",
     "output_type": "stream",
     "text": [
      "christmas is celebrated on december 25 every year\n"
     ]
    }
   ],
   "source": [
    "from transformers import AutoTokenizer, AutoModelForSeq2SeqLM\n",
    "\n",
    "tokenizer = AutoTokenizer.from_pretrained(\"Bhuvana/t5-base-spellchecker\")\n",
    "\n",
    "model = AutoModelForSeq2SeqLM.from_pretrained(\"Bhuvana/t5-base-spellchecker\")\n",
    "\n",
    "\n",
    "def correct(inputs):\n",
    "    input_ids = tokenizer.encode(inputs,return_tensors='pt')\n",
    "    sample_output = model.generate(\n",
    "        input_ids,\n",
    "        do_sample=True,\n",
    "        max_length=50,\n",
    "        top_p=0.99,\n",
    "        num_return_sequences=1\n",
    "    )\n",
    "    res = tokenizer.decode(sample_output[0], skip_special_tokens=True)\n",
    "    return res\n",
    "\n",
    "\n",
    "text = \"christmas is celbrated on decembr 25 evry ear\"\n",
    "\n",
    "print(correct(text))\n"
   ]
  },
  {
   "cell_type": "code",
   "execution_count": 3,
   "metadata": {},
   "outputs": [
    {
     "name": "stdout",
     "output_type": "stream",
     "text": [
      "Accomodate Accomodate\n",
      "Seperate senate may have separate seperate\n",
      "Discrepency Discrepency discrepency\n",
      "Indescrishible indescrisable\n",
      "Acknolegement acknowledgement\n",
      "Imprefect Imperfect Imprefect\n",
      "Exspecially especially\n",
      "Desasterous Desasterous\n",
      "Agressive aggressive\n",
      "Irregardless irregardless\n"
     ]
    }
   ],
   "source": [
    "sentence_with_mistakes = [\n",
    "    \"Accomodate\",\n",
    "    \"Seperate\",\n",
    "    \"Discrepency\",\n",
    "    \"Indescrishible\",\n",
    "    \"Acknolegement\",\n",
    "    \"Imprefect\",\n",
    "    \"Exspecially\",\n",
    "    \"Desasterous\",\n",
    "    \"Agressive\",\n",
    "    \"Irregardless\"\n",
    "]\n",
    "\n",
    "for word in sentence_with_mistakes:\n",
    "    print(word, correct(word))"
   ]
  }
 ],
 "metadata": {
  "kernelspec": {
   "display_name": "base",
   "language": "python",
   "name": "python3"
  },
  "language_info": {
   "codemirror_mode": {
    "name": "ipython",
    "version": 3
   },
   "file_extension": ".py",
   "mimetype": "text/x-python",
   "name": "python",
   "nbconvert_exporter": "python",
   "pygments_lexer": "ipython3",
   "version": "3.10.0"
  }
 },
 "nbformat": 4,
 "nbformat_minor": 2
}
