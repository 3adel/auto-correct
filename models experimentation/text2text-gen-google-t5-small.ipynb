{
 "cells": [
  {
   "cell_type": "code",
   "execution_count": 9,
   "metadata": {},
   "outputs": [],
   "source": [
    "\n",
    "\n",
    "# Use a pipeline as a high-level helper\n",
    "from transformers import pipeline\n",
    "\n",
    "'''\n",
    "available tasks for pipeline are ['audio-classification', 'automatic-speech-recognition', 'conversational', 'depth-estimation', 'document-question-answering', 'feature-extraction', 'fill-mask', 'image-classification', 'image-feature-extraction', 'image-segmentation', 'image-to-image', 'image-to-text', 'mask-generation', 'ner', 'object-detection', 'question-answering', 'sentiment-analysis', 'summarization', 'table-question-answering', 'text-classification', 'text-generation', 'text-to-audio', 'text-to-speech', 'text2text-generation', 'token-classification', 'translation', 'video-classification', 'visual-question-answering', 'vqa', 'zero-shot-audio-classification', 'zero-shot-classification', 'zero-shot-image-classification', 'zero-shot-object-detection', 'translation_XX_to_YY']\"\n",
    "\n",
    "'''\n",
    "\n",
    "pipe = pipeline(\"text2text-generation\", model=\"google-t5/t5-small\")\n",
    "\n",
    "from transformers import AutoTokenizer, AutoModelForSeq2SeqLM\n",
    "\n",
    "tokenizer = AutoTokenizer.from_pretrained(\"google-t5/t5-small\")\n",
    "model = AutoModelForSeq2SeqLM.from_pretrained(\"google-t5/t5-small\")\n"
   ]
  },
  {
   "cell_type": "code",
   "execution_count": 10,
   "metadata": {},
   "outputs": [
    {
     "name": "stderr",
     "output_type": "stream",
     "text": [
      "/Users/adel/miniconda3/lib/python3.10/site-packages/transformers/generation/utils.py:1132: UserWarning: Using the model-agnostic default `max_length` (=20) to control the generation length. We recommend setting `max_new_tokens` to control the maximum length of the generation.\n",
      "  warnings.warn(\n"
     ]
    },
    {
     "name": "stdout",
     "output_type": "stream",
     "text": [
      "Accomodate [{'generated_text': 'Accomodate'}]\n",
      "Seperate [{'generated_text': 'Seperate'}]\n",
      "Ddscrepency [{'generated_text': 'Ddscrepency'}]\n",
      "Indescrishible [{'generated_text': ''}]\n",
      "Acknolegement [{'generated_text': 'Acknolegement'}]\n",
      "Imprefect [{'generated_text': 'Imprefect'}]\n",
      "Exspecially [{'generated_text': 'Spe Spe'}]\n",
      "Desasterous [{'generated_text': 'Desasterous'}]\n",
      "Agressive [{'generated_text': 'Agressive'}]\n",
      "Irregardless [{'generated_text': 'Uniquel'}]\n"
     ]
    }
   ],
   "source": [
    "words_with_mistakes = [\n",
    "    \"Accomodate\",\n",
    "    \"Seperate\",\n",
    "    \"Ddscrepency\",\n",
    "    \"Indescrishible\",\n",
    "    \"Acknolegement\",\n",
    "    \"Imprefect\",\n",
    "    \"Exspecially\",\n",
    "    \"Desasterous\",\n",
    "    \"Agressive\",\n",
    "    \"Irregardless\"\n",
    "]\n",
    "\n",
    "for word in words_with_mistakes:\n",
    "    print(word, pipe(word))"
   ]
  }
 ],
 "metadata": {
  "kernelspec": {
   "display_name": "base",
   "language": "python",
   "name": "python3"
  },
  "language_info": {
   "codemirror_mode": {
    "name": "ipython",
    "version": 3
   },
   "file_extension": ".py",
   "mimetype": "text/x-python",
   "name": "python",
   "nbconvert_exporter": "python",
   "pygments_lexer": "ipython3",
   "version": "3.10.0"
  }
 },
 "nbformat": 4,
 "nbformat_minor": 2
}
