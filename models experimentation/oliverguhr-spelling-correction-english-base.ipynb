{
 "cells": [
  {
   "cell_type": "code",
   "execution_count": 2,
   "metadata": {},
   "outputs": [
    {
     "name": "stderr",
     "output_type": "stream",
     "text": [
      "/Users/adel/miniconda3/lib/python3.10/site-packages/tqdm/auto.py:21: TqdmWarning: IProgress not found. Please update jupyter and ipywidgets. See https://ipywidgets.readthedocs.io/en/stable/user_install.html\n",
      "  from .autonotebook import tqdm as notebook_tqdm\n"
     ]
    }
   ],
   "source": [
    "# Load model directly\n",
    "from transformers import AutoTokenizer, AutoModelForSeq2SeqLM\n",
    "# Use a pipeline as a high-level helper\n",
    "from transformers import pipeline\n",
    "\n",
    "\n",
    "tokenizer = AutoTokenizer.from_pretrained(\"oliverguhr/spelling-correction-english-base\")\n",
    "model = AutoModelForSeq2SeqLM.from_pretrained(\"oliverguhr/spelling-correction-english-base\")\n",
    "pipe = pipeline(\"text2text-generation\", model=\"oliverguhr/spelling-correction-english-base\")\n",
    "\n",
    "# Example of fine-tuning: This step is complex and requires a dataset\n",
    "# This is just a placeholder to indicate where fine-tuning code would go\n",
    "\n"
   ]
  },
  {
   "cell_type": "code",
   "execution_count": 3,
   "metadata": {},
   "outputs": [
    {
     "name": "stdout",
     "output_type": "stream",
     "text": [
      "Corrected Sentence: Discrepency\n"
     ]
    }
   ],
   "source": [
    "\n",
    "\n",
    "\n",
    "# Suppose we have a sentence with spelling mistakes\n",
    "sentence_with_mistakes = \"Discrepency\"\n",
    "\n",
    "\n",
    "# Preprocess the text to fit the model's expected format\n",
    "input_text = f\"{sentence_with_mistakes}\"\n",
    "input_ids = tokenizer.encode(input_text, return_tensors=\"pt\")\n",
    "\n",
    "# Generate the corrected sentence\n",
    "outputs = model.generate(input_ids, max_length=512, num_beams=5, early_stopping=True)\n",
    "corrected_sentence = tokenizer.decode(outputs[0], skip_special_tokens=True)\n",
    "\n",
    "print(\"Corrected Sentence:\", corrected_sentence)"
   ]
  },
  {
   "cell_type": "code",
   "execution_count": 4,
   "metadata": {},
   "outputs": [
    {
     "name": "stderr",
     "output_type": "stream",
     "text": [
      "/Users/adel/miniconda3/lib/python3.10/site-packages/transformers/generation/utils.py:1132: UserWarning: Using the model-agnostic default `max_length` (=20) to control the generation length. We recommend setting `max_new_tokens` to control the maximum length of the generation.\n",
      "  warnings.warn(\n"
     ]
    },
    {
     "name": "stdout",
     "output_type": "stream",
     "text": [
      "Accomodate [{'generated_text': 'Accommodate'}]\n",
      "Seperate [{'generated_text': 'Seperate.'}]\n",
      "Discrepency [{'generated_text': 'Discrepency'}]\n",
      "Indescrishible [{'generated_text': 'Indescribable.'}]\n",
      "Acknolegement [{'generated_text': 'Acknelegement.'}]\n",
      "Imprefect [{'generated_text': 'Imprefect'}]\n",
      "Exspecially [{'generated_text': 'Especially.'}]\n",
      "Desasterous [{'generated_text': 'Desasterous.'}]\n",
      "Agressive [{'generated_text': 'Agressive.'}]\n",
      "Irregardless [{'generated_text': 'Irrespective.'}]\n"
     ]
    }
   ],
   "source": [
    "sentence_with_mistakes = [\n",
    "    \"Accomodate\",\n",
    "    \"Seperate\",\n",
    "    \"Discrepency\",\n",
    "    \"Indescrishible\",\n",
    "    \"Acknolegement\",\n",
    "    \"Imprefect\",\n",
    "    \"Exspecially\",\n",
    "    \"Desasterous\",\n",
    "    \"Agressive\",\n",
    "    \"Irregardless\"\n",
    "]\n",
    "\n",
    "for word in sentence_with_mistakes:\n",
    "    print(word, pipe(word))"
   ]
  }
 ],
 "metadata": {
  "kernelspec": {
   "display_name": "base",
   "language": "python",
   "name": "python3"
  },
  "language_info": {
   "codemirror_mode": {
    "name": "ipython",
    "version": 3
   },
   "file_extension": ".py",
   "mimetype": "text/x-python",
   "name": "python",
   "nbconvert_exporter": "python",
   "pygments_lexer": "ipython3",
   "version": "3.10.0"
  }
 },
 "nbformat": 4,
 "nbformat_minor": 2
}
