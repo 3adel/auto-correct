{
  "cells": [
    {
      "cell_type": "markdown",
      "metadata": {
        "id": "view-in-github",
        "colab_type": "text"
      },
      "source": [
        "<a href=\"https://colab.research.google.com/github/3adel/auto-correct/blob/main/training/t5_text_spelling_local_trainer.ipynb\" target=\"_parent\"><img src=\"https://colab.research.google.com/assets/colab-badge.svg\" alt=\"Open In Colab\"/></a>"
      ]
    },
    {
      "cell_type": "code",
      "source": [
        "#pip install transformers"
      ],
      "metadata": {
        "id": "KCdJ5Dx6eudX"
      },
      "execution_count": 1,
      "outputs": []
    },
    {
      "cell_type": "code",
      "execution_count": 2,
      "metadata": {
        "id": "c4E9S7Y8j3Ig"
      },
      "outputs": [],
      "source": [
        "#Setup logging\n",
        "\n",
        "#from google.colab import drive\n",
        "import datetime\n",
        "import logging\n",
        "\n",
        "batch_size = 16\n",
        "num_epochs = 5\n",
        "finetuning_iteration = \"8\"\n",
        "\n",
        "\n",
        "#drive.mount('/content/drive/')\n",
        "\n",
        "# Function to write logs with timestamp\n",
        "now_log_file_name_suffix = datetime.datetime.now().strftime(\"%Y-%m-%d %H:%M:%S\")\n",
        "log_file_path = f'/Users/adel/adel/dev/playground/auto-correct/logs/{now_log_file_name_suffix}-t5-text_spelling_trainer_v{finetuning_iteration}.log'\n",
        "def log_message(message):\n",
        "    # Get the current date and time\n",
        "    now = datetime.datetime.now()\n",
        "    # Format the current date and time as a string\n",
        "    timestamp = now.strftime(\"%Y-%m-%d %H:%M:%S\")\n",
        "    # Prepare the log entry\n",
        "    log_entry = f\"{timestamp} - {message}\\n\"\n",
        "    # Open the log file and append the log entry\n",
        "    with open(log_file_path, 'a') as file:\n",
        "        file.write(log_entry)\n",
        "\n",
        "# Example usage\n",
        "log_message(\"Execution starts\")"
      ]
    },
    {
      "cell_type": "code",
      "execution_count": 3,
      "metadata": {
        "colab": {
          "base_uri": "https://localhost:8080/"
        },
        "id": "5evUwjh2PtR2",
        "outputId": "c1690474-096b-45a2-c9fd-a02cda35ed7c"
      },
      "outputs": [
        {
          "output_type": "stream",
          "name": "stderr",
          "text": [
            "/Users/adel/miniconda3/lib/python3.10/site-packages/tqdm/auto.py:21: TqdmWarning: IProgress not found. Please update jupyter and ipywidgets. See https://ipywidgets.readthedocs.io/en/stable/user_install.html\n",
            "  from .autonotebook import tqdm as notebook_tqdm\n",
            "Special tokens have been added in the vocabulary, make sure the associated word embeddings are fine-tuned or trained.\n"
          ]
        }
      ],
      "source": [
        "from transformers import T5ForConditionalGeneration, T5Tokenizer\n",
        "import torch\n",
        "import random\n",
        "\n",
        "# Load the pre-trained T5-small model and tokenizer\n",
        "model = T5ForConditionalGeneration.from_pretrained(\"t5-small\")\n",
        "tokenizer = T5Tokenizer.from_pretrained(\"t5-small\", legacy=False)"
      ]
    },
    {
      "cell_type": "code",
      "execution_count": 4,
      "metadata": {
        "id": "I2tEuxIkPtR5"
      },
      "outputs": [],
      "source": [
        "# Define the task-specific head\n",
        "task_prefix = \"correct: \"\n"
      ]
    },
    {
      "cell_type": "code",
      "execution_count": 5,
      "metadata": {
        "id": "edcseI4zqzSg",
        "colab": {
          "base_uri": "https://localhost:8080/"
        },
        "outputId": "5c3dec7b-9821-4f54-8f44-d255608f00d5"
      },
      "outputs": [
        {
          "output_type": "stream",
          "name": "stdout",
          "text": [
            "Data loaded successfully!\n"
          ]
        }
      ],
      "source": [
        "import pandas as pd\n",
        "\n",
        "# URL pointing directly to the raw CSV data\n",
        "url = 'https://raw.githubusercontent.com/3adel/auto-correct/main/training_sets_dumb/frequency-alpha-alldicts_1000_words.csv'\n",
        "\n",
        "try:\n",
        "    # Attempt to read the CSV file from the provided URL\n",
        "    data = pd.read_csv(url)\n",
        "    print(\"Data loaded successfully!\")\n",
        "except Exception as e:\n",
        "    # Print the error if the file cannot be read\n",
        "    print(f\"An error occurred: {e}\")\n",
        "\n",
        "training_data = list(zip(data['misspelling'], data['correct_word']))\n"
      ]
    },
    {
      "cell_type": "code",
      "execution_count": 6,
      "metadata": {
        "id": "p0YuymR-PtR5",
        "colab": {
          "base_uri": "https://localhost:8080/"
        },
        "outputId": "2b9e816f-e9b8-4bdf-eaf5-58fe215347bc"
      },
      "outputs": [
        {
          "output_type": "stream",
          "name": "stdout",
          "text": [
            "# rows in training data touples =  10223\n",
            "Seen data: [('amung', 'among'), ('t', 'subject'), ('yuo', 'you'), ('than', 'than'), (' hoppoe', 'hope'), (' Apirl', 'April'), (' tollda', 'told'), ('accout', 'account'), (' previouus', 'previous'), (' Diector', 'Director'), (' centril', 'central'), ('feww', 'few'), (' teheroy', 'theory'), (' greter', 'greater'), (' corporaiton', 'corporation'), (' notizee', 'notice'), (' etier', 'either'), (' studiy', 'study'), (' roiru', 'or'), (' resuelt', 'result'), (' Figiq', 'Fig'), (' prezent', 'present'), (' exscept', 'except'), (' alome', 'alone'), (' farie', 'far'), (' refference', 'reference'), (' rellay', 'really'), (' latar', 'latter'), (' laas', 'la'), (' whouh', 'who'), (' monyht', 'month'), (' turin', 'turn'), (' totill', 'total'), (' Rievr', 'River'), ('wehn', 'when'), (' administrtiotion', 'administration'), (' arly', 'early'), (' inti', 'into'), (' annaul', 'annual'), ('feelf', 'feel'), (' aytion', 'action'), ('noer', 'nor'), (' towrads', 'towards'), (' cllose', 'close'), (' particuly', 'particularly'), (' beforo', 'before'), (' hannds', 'hands'), (' ciytie', 'city'), (' elll', 'all'), (' secutiry', 'security'), (' Joun', 'John'), ('thas', 'that'), (' funckshun', 'function'), ('r8tes', 'rates'), (' halld', 'held'), (' cidie', 'side'), (' paay', 'pay'), (' shourt', 'short'), (' movmnt', 'movement'), (' Voul', 'Vol'), (' capitol', 'capital'), (' undurr', 'under'), (' ecach', 'each'), (' answeeer', 'answer'), ('beign', 'being'), (' laow', 'law'), (' additnial', 'additional'), (' Joun', 'John'), (' suze', 'use'), ('may', 'may'), (' countriees', 'countries'), (' therr', 'there'), (' progrem', 'program'), (' feettte', 'feet'), (' Divizion', 'Division'), (' usp', 'us'), ('rooum', 'room'), (' wrights', 'rights'), (' appilication', 'application'), (' costts', 'costs'), (' aeskd', 'asked'), ('hundrd', 'hundred'), (' matteer', 'matter'), (' prodused', 'produced'), (' arnoud', 'around'), (' childre', 'child'), (' therid', 'third'), (' farrr', 'far'), (' secnond', 'second'), (' considretion', 'consideration'), (' kpet', 'kept'), (' tyme', 'time'), (' priccie', 'practice'), (' dwon', 'down'), (' faro', 'far'), (' exampels', 'example'), (' Britihs', 'British'), (' truust', 'trust'), ('iinn', 'in'), (' emploimenty', 'employment')]\n"
          ]
        }
      ],
      "source": [
        "# Now text_pairs contains tuples in the format (incorrect, correct)\n",
        "print(\"# rows in training data touples = \",len(training_data))\n",
        "log_message(f\"# rows in training data = {len(training_data)}\")\n",
        "log_message(f\"############ Random seen data to be validated by the model later.\")\n",
        "\n",
        "seen_validation_data = []\n",
        "number_seen_data_points = 100\n",
        "\n",
        "for i in range (number_seen_data_points):\n",
        "  random_range_start_index = random.randrange(1,9050,1)\n",
        "  for row in training_data[random_range_start_index:random_range_start_index+1]:\n",
        "    #print(row[0])\n",
        "    seen_validation_data.append(row)\n",
        "print(f\"Seen data: {seen_validation_data}\")\n",
        "log_message(f\"Seen data: {seen_validation_data}\")\n"
      ]
    },
    {
      "cell_type": "code",
      "execution_count": 7,
      "metadata": {
        "id": "7yJSJifNN9QU",
        "colab": {
          "base_uri": "https://localhost:8080/"
        },
        "outputId": "c9fb87f6-d75a-4849-ac97-3068a94423d6"
      },
      "outputs": [
        {
          "output_type": "stream",
          "name": "stdout",
          "text": [
            "Number of rows in unseen validation data = 100\n",
            "Unseen validation data: [('Appel', 'Apple'), ('Booke', 'Book'), ('Kare', 'Car'), ('Dög', 'Dog'), ('Hoise', 'House'), ('Trei', 'Tree'), ('Freind', 'Friend'), ('Hapy', 'Happy'), ('Bieg', 'Big'), ('Littel', 'Little'), ('Rune', 'Run'), ('Jummp', 'Jump'), ('Sée', 'See'), ('Heer', 'Hear'), ('Saiy', 'Say'), ('Goe', 'Go'), ('Comey', 'Come'), ('Stoip', 'Stop'), ('Starit', 'Start'), ('Fynish', 'Finish'), ('Wont', 'Want'), ('Neid', 'Need'), ('Likie', 'Like'), ('Lovve', 'Love'), ('Heelp', 'Help'), ('Tayk', 'Take'), ('Givv', 'Give'), ('Mekke', 'Make'), ('Doe', 'Do'), ('Noow', 'Know'), ('Thinck', 'Think'), ('Fiel', 'Feel'), ('Sée', 'See'), ('Heer', 'Hear'), ('Seee', 'See'), ('Heer', 'Hear'), ('Eit', 'Eat'), ('Drinik', 'Drink'), ('Sleeep', 'Sleep'), ('Wakie', 'Wake'), ('Wurk', 'Work'), ('Plaiy', 'Play'), ('Lernn', 'Learn'), ('Readd', 'Read'), ('Rrite', 'Write'), ('Tawk', 'Talk'), ('Lissten', 'Listen'), ('Smilie', 'Smile'), ('Laught', 'Laugh'), ('Crie', 'Cry'), ('Yelle', 'Yell'), ('Hurrie', 'Hurry'), ('Waite', 'Wait'), ('Hoipe', 'Hope'), ('Wisshe', 'Wish'), ('Trii', 'Try'), ('Fale', 'Fail'), ('Suceede', 'Succeed'), ('Begn', 'Begin'), ('Ennd', 'End'), ('Mornig', 'Morning'), ('Afteernoon', 'Afternoon'), ('Eveninng', 'Evening'), ('Nite', 'Night'), ('Dei', 'Day'), ('Wieck', 'Week'), ('Montn', 'Month'), ('Yeer', 'Year'), ('Centurie', 'Century'), ('Lief', 'Life'), ('Tymme', 'Time'), ('Spase', 'Space'), ('Energee', 'Energy'), ('Watair', 'Water'), ('Firre', 'Fire'), ('Aire', 'Air'), ('Erth', 'Earth'), ('Skye', 'Sky'), ('Sone', 'Sun'), ('Munne', 'Moon'), ('Phenomonal', 'Phenomenal'), ('Compitition', 'Competition'), ('Independacently', 'Independently'), ('Unrelevent', 'Irrelevant'), ('Disapointment', 'Disappointment'), ('Requirments', 'Requirements'), ('Impossiblity', 'Impossibility'), ('Exsceptional', 'Exceptional'), ('Incurrable', 'Incurred'), ('Unnoticable', 'Unnoticeable'), ('Misunderstnding', 'Misunderstanding'), ('Reccomendation', 'Recommendation'), ('Incompatiblity', 'Incompatibility'), ('Exsistential', 'Existential'), ('Irrelevent', 'Irrelevant'), ('Unpredicatable', 'Unpredictable'), ('Disastorous', 'Disastrous'), ('Accomplishement', 'Accomplishment'), ('Inefficiency', 'Inefficacy'), ('Impracticality', 'Impracticability')]\n"
          ]
        }
      ],
      "source": [
        "#Load unseen data by the model\n",
        "unseen_validation_data = [\n",
        "    (\"Appel\", \"Apple\"),\n",
        "    (\"Booke\", \"Book\"),\n",
        "    (\"Kare\", \"Car\"),\n",
        "    (\"Dög\", \"Dog\"),\n",
        "    (\"Hoise\", \"House\"),\n",
        "    (\"Trei\", \"Tree\"),\n",
        "    (\"Freind\", \"Friend\"),\n",
        "    (\"Hapy\", \"Happy\"),\n",
        "    (\"Bieg\", \"Big\"),\n",
        "    (\"Littel\", \"Little\"),\n",
        "    (\"Rune\", \"Run\"),\n",
        "    (\"Jummp\", \"Jump\"),\n",
        "    (\"Sée\", \"See\"),\n",
        "    (\"Heer\", \"Hear\"),\n",
        "    (\"Saiy\", \"Say\"),\n",
        "    (\"Goe\", \"Go\"),\n",
        "    (\"Comey\", \"Come\"),\n",
        "    (\"Stoip\", \"Stop\"),\n",
        "    (\"Starit\", \"Start\"),\n",
        "    (\"Fynish\", \"Finish\"),\n",
        "    (\"Wont\", \"Want\"),\n",
        "    (\"Neid\", \"Need\"),\n",
        "    (\"Likie\", \"Like\"),\n",
        "    (\"Lovve\", \"Love\"),\n",
        "    (\"Heelp\", \"Help\"),\n",
        "    (\"Tayk\", \"Take\"),\n",
        "    (\"Givv\", \"Give\"),\n",
        "    (\"Mekke\", \"Make\"),\n",
        "    (\"Doe\", \"Do\"),\n",
        "    (\"Noow\", \"Know\"),\n",
        "    (\"Thinck\", \"Think\"),\n",
        "    (\"Fiel\", \"Feel\"),\n",
        "    (\"Sée\", \"See\"),\n",
        "    (\"Heer\", \"Hear\"),\n",
        "    (\"Seee\", \"See\"),\n",
        "    (\"Heer\", \"Hear\"),\n",
        "    (\"Eit\", \"Eat\"),\n",
        "    (\"Drinik\", \"Drink\"),\n",
        "    (\"Sleeep\", \"Sleep\"),\n",
        "    (\"Wakie\", \"Wake\"),\n",
        "    (\"Wurk\", \"Work\"),\n",
        "    (\"Plaiy\", \"Play\"),\n",
        "    (\"Lernn\", \"Learn\"),\n",
        "    (\"Readd\", \"Read\"),\n",
        "    (\"Rrite\", \"Write\"),\n",
        "    (\"Tawk\", \"Talk\"),\n",
        "    (\"Lissten\", \"Listen\"),\n",
        "    (\"Smilie\", \"Smile\"),\n",
        "    (\"Laught\", \"Laugh\"),\n",
        "    (\"Crie\", \"Cry\"),\n",
        "    (\"Yelle\", \"Yell\"),\n",
        "    (\"Hurrie\", \"Hurry\"),\n",
        "    (\"Waite\", \"Wait\"),\n",
        "    (\"Hoipe\", \"Hope\"),\n",
        "    (\"Wisshe\", \"Wish\"),\n",
        "    (\"Trii\", \"Try\"),\n",
        "    (\"Fale\", \"Fail\"),\n",
        "    (\"Suceede\", \"Succeed\"),\n",
        "    (\"Begn\", \"Begin\"),\n",
        "    (\"Ennd\", \"End\"),\n",
        "    (\"Mornig\", \"Morning\"),\n",
        "    (\"Afteernoon\", \"Afternoon\"),\n",
        "    (\"Eveninng\", \"Evening\"),\n",
        "    (\"Nite\", \"Night\"),\n",
        "    (\"Dei\", \"Day\"),\n",
        "    (\"Wieck\", \"Week\"),\n",
        "    (\"Montn\", \"Month\"),\n",
        "    (\"Yeer\", \"Year\"),\n",
        "    (\"Centurie\", \"Century\"),\n",
        "    (\"Lief\", \"Life\"),\n",
        "    (\"Tymme\", \"Time\"),\n",
        "    (\"Spase\", \"Space\"),\n",
        "    (\"Energee\", \"Energy\"),\n",
        "    (\"Watair\", \"Water\"),\n",
        "    (\"Firre\", \"Fire\"),\n",
        "    (\"Aire\", \"Air\"),\n",
        "    (\"Erth\", \"Earth\"),\n",
        "    (\"Skye\", \"Sky\"),\n",
        "    (\"Sone\", \"Sun\"),\n",
        "    (\"Munne\", \"Moon\"),\n",
        "    (\"Phenomonal\", \"Phenomenal\"),\n",
        "    (\"Compitition\", \"Competition\"),\n",
        "    (\"Independacently\", \"Independently\"),\n",
        "    (\"Unrelevent\", \"Irrelevant\"),\n",
        "    (\"Disapointment\", \"Disappointment\"),\n",
        "    (\"Requirments\", \"Requirements\"),\n",
        "    (\"Impossiblity\", \"Impossibility\"),\n",
        "    (\"Exsceptional\", \"Exceptional\"),\n",
        "    (\"Incurrable\", \"Incurred\"),\n",
        "    (\"Unnoticable\", \"Unnoticeable\"),\n",
        "    (\"Misunderstnding\", \"Misunderstanding\"),\n",
        "    (\"Reccomendation\", \"Recommendation\"),\n",
        "    (\"Incompatiblity\", \"Incompatibility\"),\n",
        "    (\"Exsistential\", \"Existential\"),\n",
        "    (\"Irrelevent\", \"Irrelevant\"),\n",
        "    (\"Unpredicatable\", \"Unpredictable\"),\n",
        "    (\"Disastorous\", \"Disastrous\"),\n",
        "    (\"Accomplishement\", \"Accomplishment\"),\n",
        "    (\"Inefficiency\", \"Inefficacy\"),\n",
        "    (\"Impracticality\", \"Impracticability\")\n",
        "]\n",
        "\n",
        "log_message(f\"############ Unseen data to be validated by the model later.\")\n",
        "print(f\"Number of rows in unseen validation data = {len(unseen_validation_data)}\")\n",
        "log_message(f\"Number of rows in unseen validation data = {len(unseen_validation_data)}\")\n",
        "\n",
        "\n",
        "print(f\"Unseen validation data: {unseen_validation_data}\")\n",
        "log_message(f\"Unawwn validation data: {unseen_validation_data}\")\n",
        "\n"
      ]
    },
    {
      "cell_type": "code",
      "execution_count": 8,
      "metadata": {
        "id": "mxaML4a-ecLd"
      },
      "outputs": [],
      "source": [
        "# Preprocess the data\n",
        "def preprocess_data(input_texts, target_texts):\n",
        "\n",
        "    #To address the issue of potential non-string types and None values in your input_texts and target_texts\n",
        "    inputs = [task_prefix + str(text) for text in input_texts if text is not None]\n",
        "    target_texts = [str(text) for text in target_texts if text is not None]\n",
        "\n",
        "    # Tokenize the inputs and targets\n",
        "    model_inputs = tokenizer(inputs, max_length=512, truncation=True, padding=\"max_length\", return_tensors=\"pt\")\n",
        "    labels = tokenizer(target_texts, max_length=512, truncation=True, padding=\"max_length\", return_tensors=\"pt\")[\"input_ids\"]\n",
        "    return model_inputs, labels\n",
        "\n",
        "# Prepare the training data\n",
        "input_texts, target_texts = zip(*training_data)\n",
        "train_inputs, train_labels = preprocess_data(input_texts, target_texts)"
      ]
    },
    {
      "cell_type": "code",
      "execution_count": 9,
      "metadata": {
        "id": "UtXGi9wTgMIA"
      },
      "outputs": [],
      "source": [
        "# Inference method\n",
        "def correct_text(input_text):\n",
        "    input_ids = tokenizer.encode(task_prefix + input_text, return_tensors=\"pt\")\n",
        "    output_ids = model.generate(input_ids, max_length=512)[0]\n",
        "    corrected_text = tokenizer.decode(output_ids, skip_special_tokens=True)\n",
        "    return corrected_text"
      ]
    },
    {
      "cell_type": "code",
      "execution_count": 10,
      "metadata": {
        "id": "HBC2_GQ-goQB",
        "colab": {
          "base_uri": "https://localhost:8080/"
        },
        "outputId": "145e18a1-c9b6-489e-99bf-4394dc9627d0"
      },
      "outputs": [
        {
          "output_type": "stream",
          "name": "stdout",
          "text": [
            "0:amung--->correct: amung\n",
            "1:t--->correct: t\n",
            "2:yuo--->correct: yuo\n",
            "3:than--->correct: than\n",
            "4: hoppoe--->correct correct correct: correct correct: correct correct: correct: correct: correct: correct: correct: correct: correct: correct: correct: correct: correct: correct: correct: correct: correct: correct: correct: correct: correct: correct: correct: correct: correct: correct: correct: correct: correct: correct: correct: correct: correct: correct: correct: correct: correct: correct: correct: correct: correct: correct: correct: correct: correct: correct: correct\n",
            "5: Apirl--->- Apirl\n",
            "6: tollda--->correct: a\n",
            "7:accout--->: accout\n",
            "8: previouus--->previouus\n",
            "9: Diector--->correct: Diector\n",
            "10: centril--->centril\n",
            "11:feww--->correct: feww\n",
            "12: teheroy--->correct correct: correct: correct: correct: correct: correct: correct: correct: correct: correct: correct: correct: teheroy\n",
            "13: greter--->greter\n",
            "14: corporaiton--->correct: corporaiton\n",
            "15: notizee--->correct correct: notizee\n",
            "16: etier--->etier: etier\n",
            "17: studiy--->correct: correct: correct: correct: studiy\n",
            "18: roiru--->correct: roiru\n",
            "19: resuelt--->\n",
            "20: Figiq--->Figiq\n",
            "21: prezent--->correct: prezent\n",
            "22: exscept--->- -\n",
            "23: alome--->Alome\n",
            "24: farie--->: farie\n",
            "25: refference--->: refference\n",
            "26: rellay--->rellay\n",
            "27: latar--->correct: latar\n",
            "28: laas--->- -\n",
            "29: whouh--->: whouh\n",
            "30: monyht--->correct: monyht\n",
            "31: turin--->turin\n",
            "32: totill--->: totill\n",
            "33: Rievr--->Rievr\n",
            "34:wehn--->: wehn\n",
            "35: administrtiotion--->administrtiotion\n",
            "36: arly--->correct: arly\n",
            "37: inti--->correct: inti\n",
            "38: annaul--->annaul\n",
            "39:feelf--->: feelf\n",
            "40: aytion--->correct: aytion\n",
            "41:noer--->noer\n",
            "42: towrads--->Richtig: towrads\n",
            "43: cllose--->correct: cllose\n",
            "44: particuly--->particuly\n",
            "45: beforo--->beforo\n",
            "46: hannds--->hannds\n",
            "47: ciytie--->correct: ciyti\n",
            "48: elll--->correct: elll\n",
            "49: secutiry--->: secutiry\n",
            "50: Joun--->Joun: Joun\n",
            "51:thas--->\n",
            "52: funckshun--->correct: funckshun\n",
            "53:r8tes--->correct: r8tes\n",
            "54: halld--->correct: halld\n",
            "55: cidie--->correct: cidie\n",
            "56: paay--->correct correct: correct: correct: correct: correct: correct: correct: correct: correct: correct: correct: correct: correct: correct: correct: correct: correct: correct: correct: correct: correct: correct: correct: correct: correct: correct: correct: correct: correct: correct: correct: correct: correct: correct: correct: correct: correct: correct: correct: correct: correct: correct: paay\n",
            "57: shourt--->shourt\n",
            "58: movmnt--->correct: movmnt\n",
            "59: Voul--->Voul\n",
            "60: capitol--->correct: capitol\n",
            "61: undurr--->correct: undurr\n",
            "62: ecach--->correct: ecach\n",
            "63: answeeer--->- -\n",
            "64:beign--->: beign\n",
            "65: laow--->correct: laow\n",
            "66: additnial--->\n",
            "67: Joun--->Joun: Joun\n",
            "68: suze--->suze\n",
            "69:may--->Peut\n",
            "70: countriees--->correct: countriees\n",
            "71: therr--->correct: therr\n",
            "72: progrem--->: progrem\n",
            "73: feettte--->correct: feettte\n",
            "74: Divizion--->correct correct: correct: correct: correct: correct: correct: correct: correct: correct: correct: correct: correct: correct: correct: correct: correct: correct: correct: correct: correct: correct: correct: correct: correct: correct: correct: correct: correct: correct: Divizion\n",
            "75: usp--->: usp\n",
            "76:rooum--->correct: rooum\n",
            "77: wrights--->-\n",
            "78: appilication--->: appilication\n",
            "79: costts--->correct: costts\n",
            "80: aeskd--->\n",
            "81:hundrd--->a\n",
            "82: matteer--->: matteer\n",
            "83: prodused--->correct: prodused\n",
            "84: arnoud--->correct: arnoud\n",
            "85: childre--->childre\n",
            "86: therid--->correct: therid\n",
            "87: farrr--->: farrr\n",
            "88: secnond--->correct: secnond\n",
            "89: considretion--->: considretion\n",
            "90: kpet--->correct: kpet\n",
            "91: tyme--->correct: tyme\n",
            "92: priccie--->correct: priccie\n",
            "93: dwon--->correct: dwon\n",
            "94: faro--->faro\n",
            "95: exampels--->-\n",
            "96: Britihs--->\n",
            "97: truust--->correct: truust\n",
            "98:iinn--->correct: iinn\n",
            "99: emploimenty--->correct: emploimenty\n",
            "CPU times: user 36.5 s, sys: 33.6 s, total: 1min 10s\n",
            "Wall time: 6.89 s\n"
          ]
        }
      ],
      "source": [
        "#run inference BEFORE finetuning against SEEN data\n",
        "%%time\n",
        "log_message(f\"############ run inference BEFORE finetuning against SEEN data\")\n",
        "for i, row in enumerate(seen_validation_data):\n",
        "  corrected_text = correct_text(row[0])\n",
        "  print(f\"{i}:{row[0]}--->{corrected_text}\")\n",
        "  log_message(f\"{i}:{row[0]}--->{corrected_text}\")\n",
        "\n"
      ]
    },
    {
      "cell_type": "code",
      "execution_count": 11,
      "metadata": {
        "id": "ueauTWNciiMQ",
        "colab": {
          "base_uri": "https://localhost:8080/"
        },
        "outputId": "19764dbd-26e4-490a-a7ed-d06f98a8d0e5"
      },
      "outputs": [
        {
          "output_type": "stream",
          "name": "stdout",
          "text": [
            "0:Appel--->Appel\n",
            "1:Booke--->Booke\n",
            "2:Kare--->Kare\n",
            "3:Dög--->Dög: Dög Dög: Dög Dög: Dög Dög: Dög: Dög: Dög: Dög: Dög: Dög\n",
            "4:Hoise--->Hoise\n",
            "5:Trei--->correct: Trei\n",
            "6:Freind--->Freind: Freind\n",
            "7:Hapy--->Hapy: Hapy\n",
            "8:Bieg--->Bieg\n",
            "9:Littel--->Littel Littel Littel: Littel Littel Littel Littel Littel: Littel\n",
            "10:Rune--->Rune\n",
            "11:Jummp--->Jummp: Jummp Jummp: Jummp Jummp Jummp Jummp: Jummp: Jummp: Jummp Jummp: Jummp\n",
            "12:Sée--->Sé\n",
            "13:Heer--->Heer: Heer: Heer: Heer Heer: Heer\n",
            "14:Saiy--->Saiy\n",
            "15:Goe--->Goe: Goe: Goe: Goe Goe: Goe Goe: Goe: Goe: Goe: Goe: Goe: Goe\n",
            "16:Comey--->Comey\n",
            "17:Stoip--->Stoip\n",
            "18:Starit--->Starit: Starit\n",
            "19:Fynish--->Fynish: Fynish: Fynish: Fynish Fynish: Fynish\n",
            "20:Wont--->Wont\n",
            "21:Neid--->correct: Neid\n",
            "22:Likie--->Likie\n",
            "23:Lovve--->: Lovve\n",
            "24:Heelp--->Heelp\n",
            "25:Tayk--->Tayk\n",
            "26:Givv--->Givv\n",
            "27:Mekke--->Mekke\n",
            "28:Doe--->Doe\n",
            "29:Noow--->Noow\n",
            "30:Thinck--->: Thinck\n",
            "31:Fiel--->Fiel\n",
            "32:Sée--->Sé\n",
            "33:Heer--->Heer: Heer: Heer: Heer Heer: Heer\n",
            "34:Seee--->Seee\n",
            "35:Heer--->Heer: Heer: Heer: Heer Heer: Heer\n",
            "36:Eit--->Eit: Eit: Eit: Eit: Eit: Eit\n",
            "37:Drinik--->correct: Drinik\n",
            "38:Sleeep--->correct: Sleep\n",
            "39:Wakie--->: Wakie\n",
            "40:Wurk--->: Wurk\n",
            "41:Plaiy--->correct: Plaiy\n",
            "42:Lernn--->Lernn\n",
            "43:Readd--->readd\n",
            "44:Rrite--->correct correct correct correct correct correct correct correct correct correct correct correct correct correct correct correct correct correct correct correct correct correct correct correct correct correct correct correct correct correct correct correct correct correct correct correct correct correct correct correct correct correct correct correct correct correct correct correct correct correct correct correct correct correct correct correct correct correct correct correct correct correct correct correct correct correct correct correct correct correct correct correct correct correct correct correct correct correct correct correct correct correct correct correct correct correct correct correct correct correct correct correct correct correct correct correct correct correct correct correct correct correct correct correct correct correct correct correct correct correct correct correct correct\n",
            "45:Tawk--->: Tawk\n",
            "46:Lissten--->Richtig: Lissten\n",
            "47:Smilie--->Smilie\n",
            "48:Laught--->Laught: Laught Laught: Laught Laught: Laught\n",
            "49:Crie--->Crie\n",
            "50:Yelle--->Yelle\n",
            "51:Hurrie--->: Hurrie\n",
            "52:Waite--->: Waite\n",
            "53:Hoipe--->: Hoipe\n",
            "54:Wisshe--->Richtig: Wisshe\n",
            "55:Trii--->a : Trii\n",
            "56:Fale--->False\n",
            "57:Suceede--->Suceede\n",
            "58:Begn--->Begn\n",
            "59:Ennd--->correct correct: Ennd\n",
            "60:Mornig--->Mornig\n",
            "61:Afteernoon--->Richtig: Afteerno\n",
            "62:Eveninng--->Eveninng\n",
            "63:Nite--->Nite\n",
            "64:Dei--->correct: Dei\n",
            "65:Wieck--->Wieck\n",
            "66:Montn--->Montn\n",
            "67:Yeer--->correct: Yeer\n",
            "68:Centurie--->Centurie\n",
            "69:Lief--->Lief\n",
            "70:Tymme--->: Tymme\n",
            "71:Spase--->Richtig: Spase\n",
            "72:Energee--->correct: Energee\n",
            "73:Watair--->Watair\n",
            "74:Firre--->Firre\n",
            "75:Aire--->Aire\n",
            "76:Erth--->Erth\n",
            "77:Skye--->Skye\n",
            "78:Sone--->Sone\n",
            "79:Munne--->Munne\n",
            "80:Phenomonal--->correct correct: Phenomonal\n",
            "81:Compitition--->Compitition\n",
            "82:Independacently--->correct:\n",
            "83:Unrelevent--->Unrelevent\n",
            "84:Disapointment--->Désignation\n",
            "85:Requirments--->Kor correct: Exquirments\n",
            "86:Impossiblity--->Richtig: Impossiblity\n",
            "87:Exsceptional--->Richtig: Exsceptional\n",
            "88:Incurrable--->: Incurrable\n",
            "89:Unnoticable--->Unnoticable\n",
            "90:Misunderstnding--->Richtig: Fehl\n",
            "91:Reccomendation--->Reccomendation\n",
            "92:Incompatiblity--->Incompatiblity\n",
            "93:Exsistential--->Richtig: Exsistential\n",
            "94:Irrelevent--->Irrelevent\n",
            "95:Unpredicatable--->Unpredictable\n",
            "96:Disastorous--->: Disastorous\n",
            "97:Accomplishement--->Kor\n",
            "98:Inefficiency--->Ineffizienz\n",
            "99:Impracticality--->Impractical\n",
            "CPU times: user 34.8 s, sys: 33.2 s, total: 1min 8s\n",
            "Wall time: 6.59 s\n"
          ]
        }
      ],
      "source": [
        "#run inference BEFORE finetuning against UNSEEN data\n",
        "%%time\n",
        "log_message(f\"############ run inference BEFORE finetuning against UNSEEN data\")\n",
        "for i, row in enumerate(unseen_validation_data):\n",
        "  corrected_text = correct_text(row[0])\n",
        "  print(f\"{i}:{row[0]}--->{corrected_text}\")\n",
        "  log_message(f\"{i}:{row[0]}--->{corrected_text}\")"
      ]
    },
    {
      "cell_type": "code",
      "execution_count": 12,
      "metadata": {
        "id": "qGHMV6ZsPtR6",
        "colab": {
          "base_uri": "https://localhost:8080/"
        },
        "outputId": "e48726b1-1ea0-4e22-e216-341ec66246e9"
      },
      "outputs": [
        {
          "output_type": "stream",
          "name": "stdout",
          "text": [
            "# training rows per batch: 639\n"
          ]
        }
      ],
      "source": [
        "#fine tuning w/ batch procerssing\n",
        "from torch.utils.data import DataLoader, TensorDataset\n",
        "\n",
        "# Create a TensorDataset\n",
        "dataset = TensorDataset(train_inputs[\"input_ids\"], train_inputs[\"attention_mask\"], train_labels)\n",
        "\n",
        "# Create a DataLoader\n",
        "train_dataloader = DataLoader(dataset, batch_size=batch_size, shuffle=True)\n",
        "print(\"# training rows per batch:\", len(train_dataloader))\n",
        "log_message(f\"# training rows per batch = {len(train_dataloader)}\")\n",
        "\n"
      ]
    },
    {
      "cell_type": "code",
      "execution_count": null,
      "metadata": {
        "id": "jyRyeMxePtR6",
        "colab": {
          "base_uri": "https://localhost:8080/"
        },
        "outputId": "8c3ae642-55d8-42a6-ecb6-993283aeed89"
      },
      "outputs": [
        {
          "output_type": "stream",
          "name": "stdout",
          "text": [
            "2024-04-30 13:33:43 Started batch #1/639 in epoch #1/2\n",
            "2024-04-30 13:33:53 Finished batch #1/639 in epoch #1/2 in (9.56 seconds)\n",
            "2024-04-30 13:33:53 Started batch #2/639 in epoch #1/2\n",
            "2024-04-30 13:34:02 Finished batch #2/639 in epoch #1/2 in (9.41 seconds)\n",
            "2024-04-30 13:34:02 Started batch #3/639 in epoch #1/2\n",
            "2024-04-30 13:34:11 Finished batch #3/639 in epoch #1/2 in (9.35 seconds)\n",
            "2024-04-30 13:34:11 Started batch #4/639 in epoch #1/2\n",
            "2024-04-30 13:34:21 Finished batch #4/639 in epoch #1/2 in (9.36 seconds)\n",
            "2024-04-30 13:34:21 Started batch #5/639 in epoch #1/2\n",
            "2024-04-30 13:34:30 Finished batch #5/639 in epoch #1/2 in (9.38 seconds)\n",
            "2024-04-30 13:34:30 Started batch #6/639 in epoch #1/2\n",
            "2024-04-30 13:34:39 Finished batch #6/639 in epoch #1/2 in (9.36 seconds)\n",
            "2024-04-30 13:34:39 Started batch #7/639 in epoch #1/2\n",
            "2024-04-30 13:34:49 Finished batch #7/639 in epoch #1/2 in (9.34 seconds)\n",
            "2024-04-30 13:34:49 Started batch #8/639 in epoch #1/2\n",
            "2024-04-30 13:34:58 Finished batch #8/639 in epoch #1/2 in (9.43 seconds)\n",
            "2024-04-30 13:34:58 Started batch #9/639 in epoch #1/2\n",
            "2024-04-30 13:35:08 Finished batch #9/639 in epoch #1/2 in (9.36 seconds)\n",
            "2024-04-30 13:35:08 Started batch #10/639 in epoch #1/2\n",
            "2024-04-30 13:35:17 Finished batch #10/639 in epoch #1/2 in (9.35 seconds)\n",
            "2024-04-30 13:35:17 Started batch #11/639 in epoch #1/2\n",
            "2024-04-30 13:35:26 Finished batch #11/639 in epoch #1/2 in (9.29 seconds)\n",
            "2024-04-30 13:35:26 Started batch #12/639 in epoch #1/2\n",
            "2024-04-30 13:35:36 Finished batch #12/639 in epoch #1/2 in (9.31 seconds)\n",
            "2024-04-30 13:35:36 Started batch #13/639 in epoch #1/2\n",
            "2024-04-30 13:35:45 Finished batch #13/639 in epoch #1/2 in (9.32 seconds)\n",
            "2024-04-30 13:35:45 Started batch #14/639 in epoch #1/2\n",
            "2024-04-30 13:35:54 Finished batch #14/639 in epoch #1/2 in (9.36 seconds)\n",
            "2024-04-30 13:35:54 Started batch #15/639 in epoch #1/2\n",
            "2024-04-30 13:36:04 Finished batch #15/639 in epoch #1/2 in (9.31 seconds)\n",
            "2024-04-30 13:36:04 Started batch #16/639 in epoch #1/2\n",
            "2024-04-30 13:36:13 Finished batch #16/639 in epoch #1/2 in (9.49 seconds)\n",
            "2024-04-30 13:36:13 Started batch #17/639 in epoch #1/2\n",
            "2024-04-30 13:36:22 Finished batch #17/639 in epoch #1/2 in (9.38 seconds)\n",
            "2024-04-30 13:36:22 Started batch #18/639 in epoch #1/2\n",
            "2024-04-30 13:36:32 Finished batch #18/639 in epoch #1/2 in (9.54 seconds)\n",
            "2024-04-30 13:36:32 Started batch #19/639 in epoch #1/2\n",
            "2024-04-30 13:36:41 Finished batch #19/639 in epoch #1/2 in (9.45 seconds)\n",
            "2024-04-30 13:36:41 Started batch #20/639 in epoch #1/2\n",
            "2024-04-30 13:36:51 Finished batch #20/639 in epoch #1/2 in (9.47 seconds)\n",
            "2024-04-30 13:36:51 Started batch #21/639 in epoch #1/2\n",
            "2024-04-30 13:37:00 Finished batch #21/639 in epoch #1/2 in (9.41 seconds)\n",
            "2024-04-30 13:37:00 Started batch #22/639 in epoch #1/2\n",
            "2024-04-30 13:37:10 Finished batch #22/639 in epoch #1/2 in (9.48 seconds)\n",
            "2024-04-30 13:37:10 Started batch #23/639 in epoch #1/2\n",
            "2024-04-30 13:37:19 Finished batch #23/639 in epoch #1/2 in (9.46 seconds)\n",
            "2024-04-30 13:37:19 Started batch #24/639 in epoch #1/2\n",
            "2024-04-30 13:37:29 Finished batch #24/639 in epoch #1/2 in (9.46 seconds)\n",
            "2024-04-30 13:37:29 Started batch #25/639 in epoch #1/2\n",
            "2024-04-30 13:37:38 Finished batch #25/639 in epoch #1/2 in (9.30 seconds)\n",
            "2024-04-30 13:37:38 Started batch #26/639 in epoch #1/2\n",
            "2024-04-30 13:37:47 Finished batch #26/639 in epoch #1/2 in (9.29 seconds)\n",
            "2024-04-30 13:37:47 Started batch #27/639 in epoch #1/2\n",
            "2024-04-30 13:37:57 Finished batch #27/639 in epoch #1/2 in (9.28 seconds)\n",
            "2024-04-30 13:37:57 Started batch #28/639 in epoch #1/2\n",
            "2024-04-30 13:38:06 Finished batch #28/639 in epoch #1/2 in (9.39 seconds)\n",
            "2024-04-30 13:38:06 Started batch #29/639 in epoch #1/2\n",
            "2024-04-30 13:38:15 Finished batch #29/639 in epoch #1/2 in (9.31 seconds)\n",
            "2024-04-30 13:38:15 Started batch #30/639 in epoch #1/2\n",
            "2024-04-30 13:38:25 Finished batch #30/639 in epoch #1/2 in (9.47 seconds)\n",
            "2024-04-30 13:38:25 Started batch #31/639 in epoch #1/2\n",
            "2024-04-30 13:38:34 Finished batch #31/639 in epoch #1/2 in (9.36 seconds)\n",
            "2024-04-30 13:38:34 Started batch #32/639 in epoch #1/2\n",
            "2024-04-30 13:38:43 Finished batch #32/639 in epoch #1/2 in (9.34 seconds)\n",
            "2024-04-30 13:38:43 Started batch #33/639 in epoch #1/2\n",
            "2024-04-30 13:38:53 Finished batch #33/639 in epoch #1/2 in (9.34 seconds)\n",
            "2024-04-30 13:38:53 Started batch #34/639 in epoch #1/2\n",
            "2024-04-30 13:39:02 Finished batch #34/639 in epoch #1/2 in (9.29 seconds)\n",
            "2024-04-30 13:39:02 Started batch #35/639 in epoch #1/2\n",
            "2024-04-30 13:39:11 Finished batch #35/639 in epoch #1/2 in (9.35 seconds)\n",
            "2024-04-30 13:39:11 Started batch #36/639 in epoch #1/2\n",
            "2024-04-30 13:39:21 Finished batch #36/639 in epoch #1/2 in (9.58 seconds)\n",
            "2024-04-30 13:39:21 Started batch #37/639 in epoch #1/2\n",
            "2024-04-30 13:39:30 Finished batch #37/639 in epoch #1/2 in (9.41 seconds)\n",
            "2024-04-30 13:39:30 Started batch #38/639 in epoch #1/2\n",
            "2024-04-30 13:39:40 Finished batch #38/639 in epoch #1/2 in (9.35 seconds)\n",
            "2024-04-30 13:39:40 Started batch #39/639 in epoch #1/2\n"
          ]
        }
      ],
      "source": [
        "# Fine-tune the model w/ frequent output\n",
        "#%%time\n",
        "model.train()\n",
        "optimizer = torch.optim.AdamW(model.parameters(), lr=1e-4)\n",
        "\n",
        "for epoch in range(num_epochs):\n",
        "    total_loss = 0\n",
        "    current_batch = 0\n",
        "\n",
        "    for batch in train_dataloader:\n",
        "        batch_start_time = datetime.datetime.now()\n",
        "        print(f\"{datetime.datetime.now().strftime('%Y-%m-%d %H:%M:%S')} Started batch #{current_batch+1}/{len(train_dataloader)} in epoch #{epoch+1}/{num_epochs}\")\n",
        "        log_message(f\"Started batch #{current_batch+1}/{len(train_dataloader)} in epoch #{epoch+1}/{num_epochs}\")\n",
        "\n",
        "        # Unpack the batch\n",
        "        batch_input_ids, batch_attention_mask, batch_labels = batch\n",
        "\n",
        "\n",
        "        # Zero the gradients on each iteration\n",
        "        optimizer.zero_grad()\n",
        "\n",
        "        # Forward pass\n",
        "        outputs = model(input_ids=batch_input_ids, attention_mask=batch_attention_mask, labels=batch_labels)\n",
        "\n",
        "\n",
        "        loss = outputs.loss\n",
        "        loss.backward()\n",
        "        optimizer.step()\n",
        "\n",
        "        total_loss += loss.item()\n",
        "\n",
        "        # Print progress\n",
        "        batch_end_time = datetime.datetime.now()\n",
        "        print(f\"{datetime.datetime.now().strftime('%Y-%m-%d %H:%M:%S')} Finished batch #{current_batch+1}/{len(train_dataloader)} in epoch #{epoch+1}/{num_epochs} in ({(batch_end_time - batch_start_time).total_seconds():.2f} seconds)\")\n",
        "        log_message(f\"Finished batch #{current_batch+1}/{len(train_dataloader)} in epoch #{epoch+1}/{num_epochs}  in ({(batch_end_time - batch_start_time).total_seconds():.2f} seconds)\")\n",
        "\n",
        "        current_batch += 1\n",
        "\n",
        "\n",
        "\n",
        "    # Calculate average loss over the number of batches\n",
        "    avg_loss = total_loss / len(train_dataloader)\n",
        "    print(f\"Epoch {epoch + 1}/{num_epochs}, Average Loss: {avg_loss:.4f}\")\n",
        "    log_message(f\"Epoch {epoch + 1}/{num_epochs}, Average Loss: {avg_loss:.4f}\")"
      ]
    },
    {
      "cell_type": "code",
      "execution_count": null,
      "metadata": {
        "id": "DW7hjDL6mPmN"
      },
      "outputs": [],
      "source": [
        "#run inference AFTER finetuning against SEEN data\n",
        "%%time\n",
        "log_message(f\"############ run inference AFTER finetuning against SEEN data\")\n",
        "for i, row in enumerate(seen_validation_data):\n",
        "  corrected_text = correct_text(row[0])\n",
        "  print(f\"{i}:{row[0]}--->{corrected_text}\")\n",
        "  log_message(f\"{i}:{row[0]}--->{corrected_text}\")"
      ]
    },
    {
      "cell_type": "code",
      "execution_count": null,
      "metadata": {
        "id": "iIt17-R-PtR6"
      },
      "outputs": [],
      "source": [
        "#run inference AFTER finetuning against UNSEEN data\n",
        "%%time\n",
        "log_message(f\"############ run inference AFTER finetuning against UNSEEN data\")\n",
        "for i, row in enumerate(unseen_validation_data):\n",
        "  corrected_text = correct_text(row[0])\n",
        "  print(f\"{i}:{row[0]}--->{corrected_text}\")\n",
        "  log_message(f\"{i}:{row[0]}--->{corrected_text}\")"
      ]
    },
    {
      "cell_type": "code",
      "execution_count": null,
      "metadata": {
        "id": "IB_IHn2QoPoF"
      },
      "outputs": [],
      "source": [
        "# Save the model and tokenizer\n",
        "#Save model to Local Drive\n",
        "model.save_pretrained(f\"/Users/adel/adel/dev/playground/auto-correct/models/{finetuning_iteration}\")\n",
        "tokenizer.save_pretrained(f\"/Users/adel/adel/dev/playground/auto-correct/models/{finetuning_iteration}\")\n"
      ]
    },
    {
      "cell_type": "code",
      "execution_count": null,
      "metadata": {
        "id": "L1H18epToXfT"
      },
      "outputs": [],
      "source": [
        "# How to load the model from drive\n",
        "\n",
        "finetuned_model_path = f\"/Users/adel/adel/dev/playground/auto-correct/models/{finetuning_iteration}\"\n",
        "finetuned_tokenizer = T5Tokenizer.from_pretrained(finetuned_model_path)\n",
        "model_finetuned_spelling_en_1000_words = T5ForConditionalGeneration.from_pretrained(finetuned_model_path)\n"
      ]
    },
    {
      "cell_type": "code",
      "execution_count": null,
      "metadata": {
        "id": "fD6iJhKDpwg2"
      },
      "outputs": [],
      "source": [
        "#use the finetuned model.\n",
        "def correct_spelling(word):\n",
        "    input_ids = tokenizer.encode(\"spelling correction:\" + word, return_tensors=\"pt\")\n",
        "\n",
        "    # Correct spelling\n",
        "    outputs = model_finetuned_spelling_en_1000_words.generate(input_ids, max_length=128, num_beams=4, early_stopping=True)\n",
        "\n",
        "    # Decode the output\n",
        "    correction = finetuned_tokenizer.decode(outputs[0], skip_special_tokens=True)\n",
        "    return correction\n",
        "\n",
        "# Example text\n",
        "word = \"objeccts\"\n",
        "correction = correct_spelling(word)\n",
        "print(\"Correction:\", correction)\n"
      ]
    }
  ],
  "metadata": {
    "colab": {
      "machine_shape": "hm",
      "provenance": [],
      "include_colab_link": true
    },
    "kernelspec": {
      "display_name": "Python 3",
      "name": "python3"
    },
    "language_info": {
      "codemirror_mode": {
        "name": "ipython",
        "version": 3
      },
      "file_extension": ".py",
      "mimetype": "text/x-python",
      "name": "python",
      "nbconvert_exporter": "python",
      "pygments_lexer": "ipython3",
      "version": "3.10.0"
    }
  },
  "nbformat": 4,
  "nbformat_minor": 0
}